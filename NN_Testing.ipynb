{
  "nbformat": 4,
  "nbformat_minor": 0,
  "metadata": {
    "colab": {
      "name": "NN_Testing.ipynb",
      "provenance": [],
      "authorship_tag": "ABX9TyOz1a0ZH1gBAsGNEuAJ0KSj",
      "include_colab_link": true
    },
    "kernelspec": {
      "name": "python3",
      "display_name": "Python 3"
    }
  },
  "cells": [
    {
      "cell_type": "markdown",
      "metadata": {
        "id": "view-in-github",
        "colab_type": "text"
      },
      "source": [
        "<a href=\"https://colab.research.google.com/github/PasanLahiru/black-pearl/blob/master/NN_Testing.ipynb\" target=\"_parent\"><img src=\"https://colab.research.google.com/assets/colab-badge.svg\" alt=\"Open In Colab\"/></a>"
      ]
    },
    {
      "cell_type": "code",
      "metadata": {
        "id": "QT9jUUzr3D64",
        "colab_type": "code",
        "colab": {
          "base_uri": "https://localhost:8080/",
          "height": 34
        },
        "outputId": "7484eb13-1fd3-43d8-a94c-d8b5f90aa8bf"
      },
      "source": [
        "# Use seaborn for pairplot\n",
        "!pip install -q seaborn\n",
        "\n",
        "# Use some functions from tensorflow_docs\n",
        "!pip install -q git+https://github.com/tensorflow/docs"
      ],
      "execution_count": 14,
      "outputs": [
        {
          "output_type": "stream",
          "text": [
            "  Building wheel for tensorflow-docs (setup.py) ... \u001b[?25l\u001b[?25hdone\n"
          ],
          "name": "stdout"
        }
      ]
    },
    {
      "cell_type": "code",
      "metadata": {
        "id": "XyP_M3Jm3Ktn",
        "colab_type": "code",
        "colab": {}
      },
      "source": [
        "import pathlib\n",
        "\n",
        "import matplotlib.pyplot as plt\n",
        "import numpy as np\n",
        "import pandas as pd\n",
        "import seaborn as sns"
      ],
      "execution_count": 32,
      "outputs": []
    },
    {
      "cell_type": "code",
      "metadata": {
        "id": "97OtEELu3RQ2",
        "colab_type": "code",
        "colab": {
          "base_uri": "https://localhost:8080/",
          "height": 34
        },
        "outputId": "c54e9a5e-258d-40fc-a339-f9dc3c3d9e10"
      },
      "source": [
        "import tensorflow as tf\n",
        "\n",
        "from tensorflow import keras\n",
        "from tensorflow.keras import layers\n",
        "\n",
        "print(tf.__version__)"
      ],
      "execution_count": 33,
      "outputs": [
        {
          "output_type": "stream",
          "text": [
            "2.3.0\n"
          ],
          "name": "stdout"
        }
      ]
    },
    {
      "cell_type": "code",
      "metadata": {
        "id": "NX84nnZ03Wov",
        "colab_type": "code",
        "colab": {}
      },
      "source": [
        "import tensorflow_docs as tfdocs\n",
        "import tensorflow_docs.plots\n",
        "import tensorflow_docs.modeling"
      ],
      "execution_count": 34,
      "outputs": []
    },
    {
      "cell_type": "code",
      "metadata": {
        "id": "mmZM6nb4xstH",
        "colab_type": "code",
        "colab": {
          "base_uri": "https://localhost:8080/",
          "height": 34
        },
        "outputId": "f7aa80fd-27be-4632-a8f1-31dec8dac295"
      },
      "source": [
        "from google.colab import drive\n",
        "drive.mount(\"/content/gdrive\")"
      ],
      "execution_count": 35,
      "outputs": [
        {
          "output_type": "stream",
          "text": [
            "Drive already mounted at /content/gdrive; to attempt to forcibly remount, call drive.mount(\"/content/gdrive\", force_remount=True).\n"
          ],
          "name": "stdout"
        }
      ]
    },
    {
      "cell_type": "code",
      "metadata": {
        "id": "I3yK3i83ymac",
        "colab_type": "code",
        "colab": {
          "base_uri": "https://localhost:8080/",
          "height": 51
        },
        "outputId": "ded84d93-0c13-419d-9612-40d2934a1e7a"
      },
      "source": [
        "\n",
        "train_df = pd.read_csv('/content/gdrive/My Drive/Colab Notebooks/DataSet/train.csv')\n",
        "test_df = pd.read_csv('/content/gdrive/My Drive/Colab Notebooks/DataSet/test.csv')\n",
        "print(\"Train - \",len(train_df),\", Test - \",len(test_df))\n",
        "train_df.columns"
      ],
      "execution_count": 60,
      "outputs": [
        {
          "output_type": "stream",
          "text": [
            "Train -  913000 , Test -  45000\n"
          ],
          "name": "stdout"
        },
        {
          "output_type": "execute_result",
          "data": {
            "text/plain": [
              "Index(['date', 'store', 'item', 'sales'], dtype='object')"
            ]
          },
          "metadata": {
            "tags": []
          },
          "execution_count": 60
        }
      ]
    },
    {
      "cell_type": "code",
      "metadata": {
        "id": "sq-2PmT1z8YW",
        "colab_type": "code",
        "colab": {
          "base_uri": "https://localhost:8080/",
          "height": 204
        },
        "outputId": "67150e67-a01c-49f6-d025-f00651bfb40f"
      },
      "source": [
        "# train_df = train_df.dropna()\n",
        "# test_df = test_df.dropna()\n",
        "# print(\"Train - \",len(train_df),\", Test - \",len(test_df))\n",
        "\n",
        "train_df.head()\n",
        "#test_df.head()"
      ],
      "execution_count": 61,
      "outputs": [
        {
          "output_type": "execute_result",
          "data": {
            "text/html": [
              "<div>\n",
              "<style scoped>\n",
              "    .dataframe tbody tr th:only-of-type {\n",
              "        vertical-align: middle;\n",
              "    }\n",
              "\n",
              "    .dataframe tbody tr th {\n",
              "        vertical-align: top;\n",
              "    }\n",
              "\n",
              "    .dataframe thead th {\n",
              "        text-align: right;\n",
              "    }\n",
              "</style>\n",
              "<table border=\"1\" class=\"dataframe\">\n",
              "  <thead>\n",
              "    <tr style=\"text-align: right;\">\n",
              "      <th></th>\n",
              "      <th>date</th>\n",
              "      <th>store</th>\n",
              "      <th>item</th>\n",
              "      <th>sales</th>\n",
              "    </tr>\n",
              "  </thead>\n",
              "  <tbody>\n",
              "    <tr>\n",
              "      <th>0</th>\n",
              "      <td>2013-01-01</td>\n",
              "      <td>1</td>\n",
              "      <td>1</td>\n",
              "      <td>13</td>\n",
              "    </tr>\n",
              "    <tr>\n",
              "      <th>1</th>\n",
              "      <td>2013-01-02</td>\n",
              "      <td>1</td>\n",
              "      <td>1</td>\n",
              "      <td>11</td>\n",
              "    </tr>\n",
              "    <tr>\n",
              "      <th>2</th>\n",
              "      <td>2013-01-03</td>\n",
              "      <td>1</td>\n",
              "      <td>1</td>\n",
              "      <td>14</td>\n",
              "    </tr>\n",
              "    <tr>\n",
              "      <th>3</th>\n",
              "      <td>2013-01-04</td>\n",
              "      <td>1</td>\n",
              "      <td>1</td>\n",
              "      <td>13</td>\n",
              "    </tr>\n",
              "    <tr>\n",
              "      <th>4</th>\n",
              "      <td>2013-01-05</td>\n",
              "      <td>1</td>\n",
              "      <td>1</td>\n",
              "      <td>10</td>\n",
              "    </tr>\n",
              "  </tbody>\n",
              "</table>\n",
              "</div>"
            ],
            "text/plain": [
              "         date  store  item  sales\n",
              "0  2013-01-01      1     1     13\n",
              "1  2013-01-02      1     1     11\n",
              "2  2013-01-03      1     1     14\n",
              "3  2013-01-04      1     1     13\n",
              "4  2013-01-05      1     1     10"
            ]
          },
          "metadata": {
            "tags": []
          },
          "execution_count": 61
        }
      ]
    },
    {
      "cell_type": "code",
      "metadata": {
        "id": "WLMvRU1a1Fh7",
        "colab_type": "code",
        "colab": {
          "base_uri": "https://localhost:8080/",
          "height": 584
        },
        "outputId": "419f5ef2-45aa-433a-d1a7-3178cdfbd067"
      },
      "source": [
        "sns.pairplot(train_df[[\"sales\", \"item\", \"store\"]], diag_kind=\"kde\")"
      ],
      "execution_count": 38,
      "outputs": [
        {
          "output_type": "execute_result",
          "data": {
            "text/plain": [
              "<seaborn.axisgrid.PairGrid at 0x7fa7b2cd3d68>"
            ]
          },
          "metadata": {
            "tags": []
          },
          "execution_count": 38
        },
        {
          "output_type": "display_data",
          "data": {
            "image/png": "[encoded data removed]",
            "text/plain": [
              "<Figure size 540x540 with 12 Axes>"
            ]
          },
          "metadata": {
            "tags": [],
            "needs_background": "light"
          }
        }
      ]
    },
    {
      "cell_type": "code",
      "metadata": {
        "id": "pRf0o6ec4-VX",
        "colab_type": "code",
        "colab": {
          "base_uri": "https://localhost:8080/",
          "height": 111
        },
        "outputId": "0c4812f5-79d3-4c32-9389-c177865d9514"
      },
      "source": [
        "train_stats = train_df.describe()\n",
        "train_stats.pop(\"sales\")\n",
        "train_stats = train_stats.transpose()\n",
        "train_stats"
      ],
      "execution_count": 62,
      "outputs": [
        {
          "output_type": "execute_result",
          "data": {
            "text/html": [
              "<div>\n",
              "<style scoped>\n",
              "    .dataframe tbody tr th:only-of-type {\n",
              "        vertical-align: middle;\n",
              "    }\n",
              "\n",
              "    .dataframe tbody tr th {\n",
              "        vertical-align: top;\n",
              "    }\n",
              "\n",
              "    .dataframe thead th {\n",
              "        text-align: right;\n",
              "    }\n",
              "</style>\n",
              "<table border=\"1\" class=\"dataframe\">\n",
              "  <thead>\n",
              "    <tr style=\"text-align: right;\">\n",
              "      <th></th>\n",
              "      <th>count</th>\n",
              "      <th>mean</th>\n",
              "      <th>std</th>\n",
              "      <th>min</th>\n",
              "      <th>25%</th>\n",
              "      <th>50%</th>\n",
              "      <th>75%</th>\n",
              "      <th>max</th>\n",
              "    </tr>\n",
              "  </thead>\n",
              "  <tbody>\n",
              "    <tr>\n",
              "      <th>store</th>\n",
              "      <td>913000.0</td>\n",
              "      <td>5.5</td>\n",
              "      <td>2.872283</td>\n",
              "      <td>1.0</td>\n",
              "      <td>3.0</td>\n",
              "      <td>5.5</td>\n",
              "      <td>8.0</td>\n",
              "      <td>10.0</td>\n",
              "    </tr>\n",
              "    <tr>\n",
              "      <th>item</th>\n",
              "      <td>913000.0</td>\n",
              "      <td>25.5</td>\n",
              "      <td>14.430878</td>\n",
              "      <td>1.0</td>\n",
              "      <td>13.0</td>\n",
              "      <td>25.5</td>\n",
              "      <td>38.0</td>\n",
              "      <td>50.0</td>\n",
              "    </tr>\n",
              "  </tbody>\n",
              "</table>\n",
              "</div>"
            ],
            "text/plain": [
              "          count  mean        std  min   25%   50%   75%   max\n",
              "store  913000.0   5.5   2.872283  1.0   3.0   5.5   8.0  10.0\n",
              "item   913000.0  25.5  14.430878  1.0  13.0  25.5  38.0  50.0"
            ]
          },
          "metadata": {
            "tags": []
          },
          "execution_count": 62
        }
      ]
    },
    {
      "cell_type": "code",
      "metadata": {
        "id": "ieKGehOu559H",
        "colab_type": "code",
        "colab": {}
      },
      "source": [
        "train_labels = train_df.pop('sales')\n",
        "# test_labels = test_df.pop('sales')"
      ],
      "execution_count": 40,
      "outputs": []
    },
    {
      "cell_type": "code",
      "metadata": {
        "id": "LCoeKzr8IG-z",
        "colab_type": "code",
        "colab": {}
      },
      "source": [
        "lstStore = train_df['store'].to_list()\n",
        "lstItem = train_df['item'].to_list()\n",
        "data_lst= []\n",
        "for i in range(len(lstStore)):\n",
        "  row = [lstStore[i],lstItem[i]]\n",
        "  data_lst.append(row)\n",
        "\n",
        "np_arr = np.asarray(data_lst)"
      ],
      "execution_count": 46,
      "outputs": []
    },
    {
      "cell_type": "code",
      "metadata": {
        "id": "Vb_yY4zSPtl8",
        "colab_type": "code",
        "colab": {
          "base_uri": "https://localhost:8080/",
          "height": 255
        },
        "outputId": "259b67bb-31a0-429e-e162-47408d051966"
      },
      "source": [
        "def build_model():\n",
        "  model = keras.Sequential([\n",
        "    layers.Dense(64, activation='relu', input_shape=[2,]),\n",
        "    layers.Dense(64, activation='relu'),\n",
        "    layers.Dense(1)\n",
        "  ])\n",
        "\n",
        "  optimizer = tf.keras.optimizers.RMSprop(0.005)\n",
        "\n",
        "  model.compile(loss='mse',\n",
        "                optimizer=optimizer,\n",
        "                metrics=['mae', 'mse'])\n",
        "  return model\n",
        "\n",
        "model = build_model()\n",
        "model.summary()"
      ],
      "execution_count": 56,
      "outputs": [
        {
          "output_type": "stream",
          "text": [
            "Model: \"sequential_3\"\n",
            "_________________________________________________________________\n",
            "Layer (type)                 Output Shape              Param #   \n",
            "=================================================================\n",
            "dense_9 (Dense)              (None, 64)                192       \n",
            "_________________________________________________________________\n",
            "dense_10 (Dense)             (None, 64)                4160      \n",
            "_________________________________________________________________\n",
            "dense_11 (Dense)             (None, 1)                 65        \n",
            "=================================================================\n",
            "Total params: 4,417\n",
            "Trainable params: 4,417\n",
            "Non-trainable params: 0\n",
            "_________________________________________________________________\n"
          ],
          "name": "stdout"
        }
      ]
    },
    {
      "cell_type": "code",
      "metadata": {
        "id": "3hcAd4uNQE2v",
        "colab_type": "code",
        "colab": {
          "base_uri": "https://localhost:8080/",
          "height": 136
        },
        "outputId": "6cda5034-c716-462f-be69-369fa7b68166"
      },
      "source": [
        "# example_batch = normed_train_data[:10]\n",
        "example_result = model.predict(np_arr)\n",
        "example_result"
      ],
      "execution_count": 57,
      "outputs": [
        {
          "output_type": "execute_result",
          "data": {
            "text/plain": [
              "array([[0.24904841],\n",
              "       [0.24904841],\n",
              "       [0.24904841],\n",
              "       ...,\n",
              "       [7.7085667 ],\n",
              "       [7.7085676 ],\n",
              "       [7.7085676 ]], dtype=float32)"
            ]
          },
          "metadata": {
            "tags": []
          },
          "execution_count": 57
        }
      ]
    },
    {
      "cell_type": "code",
      "metadata": {
        "id": "rMiukDx-T_CQ",
        "colab_type": "code",
        "colab": {
          "base_uri": "https://localhost:8080/",
          "height": 1000
        },
        "outputId": "0f602e8a-9ca7-4af5-bfbf-92b8d4862388"
      },
      "source": [
        "EPOCHS = 100\n",
        "\n",
        "history = model.fit(\n",
        "  np_arr, train_labels,\n",
        "  epochs=EPOCHS, validation_split = 0.2, verbose=1,\n",
        "  callbacks=[tfdocs.modeling.EpochDots()])"
      ],
      "execution_count": 58,
      "outputs": [
        {
          "output_type": "stream",
          "text": [
            "Epoch 1/100\n",
            "22805/22825 [============================>.] - ETA: 0s - loss: 679.6934 - mae: 20.4106 - mse: 679.6934\n",
            "Epoch: 0, loss:679.6809,  mae:20.4104,  mse:679.6809,  val_loss:608.7131,  val_mae:19.8767,  val_mse:608.7131,  \n",
            "22825/22825 [==============================] - 24s 1ms/step - loss: 679.6809 - mae: 20.4104 - mse: 679.6809 - val_loss: 608.7131 - val_mae: 19.8767 - val_mse: 608.7131\n",
            "Epoch 2/100\n",
            "22825/22825 [==============================] - 24s 1ms/step - loss: 633.0202 - mae: 19.4861 - mse: 633.0202 - val_loss: 633.6011 - val_mae: 19.8124 - val_mse: 633.6011\n",
            "Epoch 3/100\n",
            "22825/22825 [==============================] - 24s 1ms/step - loss: 620.0245 - mae: 19.2282 - mse: 620.0245 - val_loss: 691.0206 - val_mae: 20.2782 - val_mse: 691.0206\n",
            "Epoch 4/100\n",
            "22825/22825 [==============================] - 24s 1ms/step - loss: 603.9163 - mae: 18.9568 - mse: 603.9163 - val_loss: 1048.0198 - val_mae: 24.0354 - val_mse: 1048.0198\n",
            "Epoch 5/100\n",
            "22825/22825 [==============================] - 24s 1ms/step - loss: 582.4235 - mae: 18.5632 - mse: 582.4235 - val_loss: 6077.8262 - val_mae: 66.6821 - val_mse: 6077.8262\n",
            "Epoch 6/100\n",
            "22825/22825 [==============================] - 23s 1ms/step - loss: 559.4334 - mae: 18.1758 - mse: 559.4334 - val_loss: 10763.0967 - val_mae: 89.6310 - val_mse: 10763.0967\n",
            "Epoch 7/100\n",
            "22825/22825 [==============================] - 24s 1ms/step - loss: 549.8211 - mae: 17.9968 - mse: 549.8211 - val_loss: 15909.5605 - val_mae: 110.8055 - val_mse: 15909.5605\n",
            "Epoch 8/100\n",
            "22825/22825 [==============================] - 24s 1ms/step - loss: 541.0767 - mae: 17.8211 - mse: 541.0767 - val_loss: 13832.4443 - val_mae: 101.5477 - val_mse: 13832.4443\n",
            "Epoch 9/100\n",
            "22825/22825 [==============================] - 24s 1ms/step - loss: 531.9118 - mae: 17.6437 - mse: 531.9118 - val_loss: 13166.7598 - val_mae: 97.8511 - val_mse: 13166.7598\n",
            "Epoch 10/100\n",
            "22825/22825 [==============================] - 24s 1ms/step - loss: 522.2964 - mae: 17.4657 - mse: 522.2964 - val_loss: 13041.5488 - val_mae: 96.8204 - val_mse: 13041.5488\n",
            "Epoch 11/100\n",
            "22825/22825 [==============================] - 24s 1ms/step - loss: 517.6985 - mae: 17.3784 - mse: 517.6985 - val_loss: 14705.5068 - val_mae: 103.4370 - val_mse: 14705.5068\n",
            "Epoch 12/100\n",
            "22825/22825 [==============================] - 25s 1ms/step - loss: 514.6604 - mae: 17.3192 - mse: 514.6604 - val_loss: 17671.9512 - val_mae: 115.3760 - val_mse: 17671.9512\n",
            "Epoch 13/100\n",
            "22825/22825 [==============================] - 24s 1ms/step - loss: 513.1944 - mae: 17.2911 - mse: 513.1944 - val_loss: 14340.0938 - val_mae: 101.8955 - val_mse: 14340.0938\n",
            "Epoch 14/100\n",
            "22825/22825 [==============================] - 25s 1ms/step - loss: 510.9823 - mae: 17.2423 - mse: 510.9823 - val_loss: 21293.0859 - val_mae: 129.0532 - val_mse: 21293.0859\n",
            "Epoch 15/100\n",
            "22825/22825 [==============================] - 24s 1ms/step - loss: 511.2285 - mae: 17.2420 - mse: 511.2285 - val_loss: 12440.0791 - val_mae: 94.0931 - val_mse: 12440.0791\n",
            "Epoch 16/100\n",
            "22825/22825 [==============================] - 24s 1ms/step - loss: 508.5208 - mae: 17.1900 - mse: 508.5208 - val_loss: 21582.0781 - val_mae: 129.9978 - val_mse: 21582.0781\n",
            "Epoch 17/100\n",
            "22825/22825 [==============================] - 24s 1ms/step - loss: 506.5718 - mae: 17.1509 - mse: 506.5718 - val_loss: 15332.6045 - val_mae: 106.3576 - val_mse: 15332.6045\n",
            "Epoch 18/100\n",
            "22825/22825 [==============================] - 24s 1ms/step - loss: 504.9367 - mae: 17.1223 - mse: 504.9367 - val_loss: 17118.4434 - val_mae: 112.9551 - val_mse: 17118.4434\n",
            "Epoch 19/100\n",
            "22825/22825 [==============================] - 24s 1ms/step - loss: 503.7688 - mae: 17.1091 - mse: 503.7688 - val_loss: 21499.2910 - val_mae: 128.9335 - val_mse: 21499.2910\n",
            "Epoch 20/100\n",
            "22825/22825 [==============================] - 24s 1ms/step - loss: 500.9659 - mae: 17.0511 - mse: 500.9659 - val_loss: 19456.3789 - val_mae: 121.5078 - val_mse: 19456.3789\n",
            "Epoch 21/100\n",
            "22825/22825 [==============================] - 24s 1ms/step - loss: 498.2680 - mae: 17.0043 - mse: 498.2680 - val_loss: 23760.1348 - val_mae: 136.2799 - val_mse: 23760.1348\n",
            "Epoch 22/100\n",
            "22825/22825 [==============================] - 24s 1ms/step - loss: 497.0358 - mae: 16.9727 - mse: 497.0358 - val_loss: 20910.7773 - val_mae: 126.5251 - val_mse: 20910.7773\n",
            "Epoch 23/100\n",
            "22825/22825 [==============================] - 24s 1ms/step - loss: 493.3694 - mae: 16.9116 - mse: 493.3694 - val_loss: 24016.8008 - val_mae: 136.9901 - val_mse: 24016.8008\n",
            "Epoch 24/100\n",
            "22825/22825 [==============================] - 24s 1ms/step - loss: 492.0617 - mae: 16.8954 - mse: 492.0617 - val_loss: 25058.4766 - val_mae: 140.0938 - val_mse: 25058.4766\n",
            "Epoch 25/100\n",
            "22825/22825 [==============================] - 24s 1ms/step - loss: 491.6740 - mae: 16.8861 - mse: 491.6740 - val_loss: 18756.5898 - val_mae: 117.6899 - val_mse: 18756.5898\n",
            "Epoch 26/100\n",
            "22825/22825 [==============================] - 24s 1ms/step - loss: 489.9679 - mae: 16.8560 - mse: 489.9679 - val_loss: 25559.7969 - val_mae: 141.7415 - val_mse: 25559.7969\n",
            "Epoch 27/100\n",
            "22825/22825 [==============================] - 23s 1ms/step - loss: 489.2107 - mae: 16.8449 - mse: 489.2107 - val_loss: 25989.8691 - val_mae: 143.0041 - val_mse: 25989.8691\n",
            "Epoch 28/100\n",
            "22825/22825 [==============================] - 24s 1ms/step - loss: 488.2368 - mae: 16.8372 - mse: 488.2368 - val_loss: 24875.5176 - val_mae: 139.0485 - val_mse: 24875.5176\n",
            "Epoch 29/100\n",
            "22825/22825 [==============================] - 24s 1ms/step - loss: 488.3219 - mae: 16.8408 - mse: 488.3219 - val_loss: 30287.3535 - val_mae: 156.8432 - val_mse: 30287.3535\n",
            "Epoch 30/100\n",
            "22825/22825 [==============================] - 24s 1ms/step - loss: 486.9561 - mae: 16.8176 - mse: 486.9561 - val_loss: 21368.8984 - val_mae: 126.9158 - val_mse: 21368.8984\n",
            "Epoch 31/100\n",
            "22825/22825 [==============================] - 24s 1ms/step - loss: 486.1486 - mae: 16.8047 - mse: 486.1486 - val_loss: 19493.3691 - val_mae: 120.1452 - val_mse: 19493.3691\n",
            "Epoch 32/100\n",
            "22825/22825 [==============================] - 24s 1ms/step - loss: 486.3529 - mae: 16.7968 - mse: 486.3529 - val_loss: 27420.7930 - val_mae: 147.4579 - val_mse: 27420.7930\n",
            "Epoch 33/100\n",
            "22825/22825 [==============================] - 24s 1ms/step - loss: 484.5679 - mae: 16.7751 - mse: 484.5679 - val_loss: 25604.5391 - val_mae: 141.6286 - val_mse: 25604.5391\n",
            "Epoch 34/100\n",
            "22825/22825 [==============================] - 24s 1ms/step - loss: 484.4209 - mae: 16.7606 - mse: 484.4209 - val_loss: 21319.6738 - val_mae: 126.6546 - val_mse: 21319.6738\n",
            "Epoch 35/100\n",
            "22825/22825 [==============================] - 25s 1ms/step - loss: 484.7880 - mae: 16.7623 - mse: 484.7880 - val_loss: 24977.3672 - val_mae: 139.4206 - val_mse: 24977.3672\n",
            "Epoch 36/100\n",
            "22825/22825 [==============================] - 24s 1ms/step - loss: 484.0736 - mae: 16.7541 - mse: 484.0736 - val_loss: 23380.9258 - val_mae: 134.0130 - val_mse: 23380.9258\n",
            "Epoch 37/100\n",
            "22825/22825 [==============================] - 24s 1ms/step - loss: 483.2638 - mae: 16.7362 - mse: 483.2638 - val_loss: 22212.8320 - val_mae: 129.4527 - val_mse: 22212.8320\n",
            "Epoch 38/100\n",
            "22825/22825 [==============================] - 25s 1ms/step - loss: 483.1312 - mae: 16.7323 - mse: 483.1312 - val_loss: 23069.5820 - val_mae: 133.4297 - val_mse: 23069.5820\n",
            "Epoch 39/100\n",
            "22825/22825 [==============================] - 24s 1ms/step - loss: 483.4636 - mae: 16.7330 - mse: 483.4636 - val_loss: 25915.7852 - val_mae: 142.7284 - val_mse: 25915.7852\n",
            "Epoch 40/100\n",
            "22825/22825 [==============================] - 24s 1ms/step - loss: 483.9536 - mae: 16.7458 - mse: 483.9536 - val_loss: 29522.5430 - val_mae: 153.4473 - val_mse: 29522.5430\n",
            "Epoch 41/100\n",
            "22825/22825 [==============================] - 24s 1ms/step - loss: 483.5182 - mae: 16.7465 - mse: 483.5182 - val_loss: 21293.4121 - val_mae: 126.0836 - val_mse: 21293.4121\n",
            "Epoch 42/100\n",
            "22825/22825 [==============================] - 25s 1ms/step - loss: 485.3543 - mae: 16.7743 - mse: 485.3543 - val_loss: 20966.0273 - val_mae: 125.1473 - val_mse: 20966.0273\n",
            "Epoch 43/100\n",
            "22825/22825 [==============================] - 23s 1ms/step - loss: 479.9835 - mae: 16.6833 - mse: 479.9835 - val_loss: 24747.9824 - val_mae: 139.0338 - val_mse: 24747.9824\n",
            "Epoch 44/100\n",
            "22825/22825 [==============================] - 25s 1ms/step - loss: 479.9127 - mae: 16.6889 - mse: 479.9127 - val_loss: 23109.5449 - val_mae: 133.2578 - val_mse: 23109.5449\n",
            "Epoch 45/100\n",
            "22825/22825 [==============================] - 23s 1ms/step - loss: 479.3816 - mae: 16.6771 - mse: 479.3816 - val_loss: 19467.8105 - val_mae: 120.0471 - val_mse: 19467.8105\n",
            "Epoch 46/100\n",
            "22825/22825 [==============================] - 23s 1ms/step - loss: 478.2065 - mae: 16.6588 - mse: 478.2065 - val_loss: 24542.2207 - val_mae: 137.6708 - val_mse: 24542.2207\n",
            "Epoch 47/100\n",
            "22825/22825 [==============================] - 23s 1ms/step - loss: 477.2794 - mae: 16.6386 - mse: 477.2794 - val_loss: 23276.8457 - val_mae: 132.6170 - val_mse: 23276.8457\n",
            "Epoch 48/100\n",
            "22825/22825 [==============================] - 23s 1ms/step - loss: 476.7394 - mae: 16.6332 - mse: 476.7394 - val_loss: 25990.3086 - val_mae: 142.4671 - val_mse: 25990.3086\n",
            "Epoch 49/100\n",
            "22825/22825 [==============================] - 24s 1ms/step - loss: 476.2243 - mae: 16.6172 - mse: 476.2243 - val_loss: 22836.2324 - val_mae: 131.0887 - val_mse: 22836.2324\n",
            "Epoch 50/100\n",
            "22825/22825 [==============================] - 25s 1ms/step - loss: 475.6840 - mae: 16.6128 - mse: 475.6840 - val_loss: 27228.1328 - val_mae: 146.1040 - val_mse: 27228.1328\n",
            "Epoch 51/100\n",
            "22825/22825 [==============================] - 24s 1ms/step - loss: 476.6359 - mae: 16.6261 - mse: 476.6359 - val_loss: 24115.9141 - val_mae: 135.4624 - val_mse: 24115.9141\n",
            "Epoch 52/100\n",
            "22825/22825 [==============================] - 24s 1ms/step - loss: 475.4001 - mae: 16.6083 - mse: 475.4001 - val_loss: 20443.7754 - val_mae: 123.8531 - val_mse: 20443.7754\n",
            "Epoch 53/100\n",
            "22825/22825 [==============================] - 24s 1ms/step - loss: 478.2219 - mae: 16.6596 - mse: 478.2219 - val_loss: 22113.3145 - val_mae: 129.3988 - val_mse: 22113.3145\n",
            "Epoch 54/100\n",
            "22825/22825 [==============================] - 24s 1ms/step - loss: 474.4559 - mae: 16.5935 - mse: 474.4559 - val_loss: 22627.0762 - val_mae: 130.9184 - val_mse: 22627.0762\n",
            "Epoch 55/100\n",
            "22825/22825 [==============================] - 24s 1ms/step - loss: 474.7748 - mae: 16.6008 - mse: 474.7748 - val_loss: 22591.4707 - val_mae: 131.0783 - val_mse: 22591.4707\n",
            "Epoch 56/100\n",
            "22825/22825 [==============================] - 24s 1ms/step - loss: 473.7940 - mae: 16.5837 - mse: 473.7940 - val_loss: 22229.0625 - val_mae: 129.5135 - val_mse: 22229.0625\n",
            "Epoch 57/100\n",
            "22825/22825 [==============================] - 24s 1ms/step - loss: 472.7827 - mae: 16.5651 - mse: 472.7827 - val_loss: 24071.7285 - val_mae: 135.5852 - val_mse: 24071.7285\n",
            "Epoch 58/100\n",
            "22825/22825 [==============================] - 23s 1ms/step - loss: 473.6296 - mae: 16.5768 - mse: 473.6296 - val_loss: 24956.6211 - val_mae: 138.5424 - val_mse: 24956.6211\n",
            "Epoch 59/100\n",
            "22825/22825 [==============================] - 24s 1ms/step - loss: 472.7162 - mae: 16.5625 - mse: 472.7162 - val_loss: 23315.0234 - val_mae: 132.7064 - val_mse: 23315.0234\n",
            "Epoch 60/100\n",
            "22825/22825 [==============================] - 24s 1ms/step - loss: 472.4855 - mae: 16.5528 - mse: 472.4855 - val_loss: 25888.3945 - val_mae: 141.3654 - val_mse: 25888.3945\n",
            "Epoch 61/100\n",
            "22825/22825 [==============================] - 24s 1ms/step - loss: 472.0720 - mae: 16.5462 - mse: 472.0720 - val_loss: 23766.3867 - val_mae: 134.0453 - val_mse: 23766.3867\n",
            "Epoch 62/100\n",
            "22825/22825 [==============================] - 24s 1ms/step - loss: 472.0798 - mae: 16.5466 - mse: 472.0798 - val_loss: 28362.5098 - val_mae: 149.2033 - val_mse: 28362.5098\n",
            "Epoch 63/100\n",
            "22825/22825 [==============================] - 25s 1ms/step - loss: 472.1498 - mae: 16.5543 - mse: 472.1498 - val_loss: 25721.2148 - val_mae: 140.3145 - val_mse: 25721.2148\n",
            "Epoch 64/100\n",
            "22825/22825 [==============================] - 24s 1ms/step - loss: 470.7823 - mae: 16.5230 - mse: 470.7823 - val_loss: 24562.2070 - val_mae: 136.6330 - val_mse: 24562.2070\n",
            "Epoch 65/100\n",
            "22825/22825 [==============================] - 24s 1ms/step - loss: 470.2664 - mae: 16.5145 - mse: 470.2664 - val_loss: 20858.0352 - val_mae: 124.9916 - val_mse: 20858.0352\n",
            "Epoch 66/100\n",
            "22825/22825 [==============================] - 24s 1ms/step - loss: 470.7877 - mae: 16.5291 - mse: 470.7877 - val_loss: 22580.0488 - val_mae: 131.0435 - val_mse: 22580.0488\n",
            "Epoch 67/100\n",
            "22825/22825 [==============================] - 23s 1ms/step - loss: 470.7671 - mae: 16.5258 - mse: 470.7671 - val_loss: 22116.6387 - val_mae: 129.7432 - val_mse: 22116.6387\n",
            "Epoch 68/100\n",
            "22825/22825 [==============================] - 23s 1ms/step - loss: 470.4815 - mae: 16.5212 - mse: 470.4815 - val_loss: 22442.1816 - val_mae: 130.7846 - val_mse: 22442.1816\n",
            "Epoch 69/100\n",
            "22825/22825 [==============================] - 24s 1ms/step - loss: 469.6206 - mae: 16.5101 - mse: 469.6206 - val_loss: 23752.6387 - val_mae: 134.9376 - val_mse: 23752.6387\n",
            "Epoch 70/100\n",
            "22825/22825 [==============================] - 24s 1ms/step - loss: 470.3546 - mae: 16.5190 - mse: 470.3546 - val_loss: 22298.7363 - val_mae: 130.1486 - val_mse: 22298.7363\n",
            "Epoch 71/100\n",
            "22825/22825 [==============================] - 24s 1ms/step - loss: 469.4662 - mae: 16.5030 - mse: 469.4662 - val_loss: 24216.9688 - val_mae: 136.2124 - val_mse: 24216.9688\n",
            "Epoch 72/100\n",
            "22825/22825 [==============================] - 24s 1ms/step - loss: 470.2779 - mae: 16.5142 - mse: 470.2779 - val_loss: 22050.1699 - val_mae: 129.7557 - val_mse: 22050.1699\n",
            "Epoch 73/100\n",
            "22825/22825 [==============================] - 24s 1ms/step - loss: 470.5190 - mae: 16.5216 - mse: 470.5190 - val_loss: 18421.9219 - val_mae: 116.6181 - val_mse: 18421.9219\n",
            "Epoch 74/100\n",
            "22825/22825 [==============================] - 24s 1ms/step - loss: 469.5482 - mae: 16.5081 - mse: 469.5482 - val_loss: 20855.2559 - val_mae: 126.4744 - val_mse: 20855.2559\n",
            "Epoch 75/100\n",
            "22825/22825 [==============================] - 24s 1ms/step - loss: 470.0054 - mae: 16.5101 - mse: 470.0054 - val_loss: 21757.5293 - val_mae: 126.9055 - val_mse: 21757.5293\n",
            "Epoch 76/100\n",
            "22825/22825 [==============================] - 24s 1ms/step - loss: 469.4486 - mae: 16.5026 - mse: 469.4486 - val_loss: 25195.4297 - val_mae: 139.6891 - val_mse: 25195.4297\n",
            "Epoch 77/100\n",
            "22825/22825 [==============================] - 24s 1ms/step - loss: 469.4667 - mae: 16.5008 - mse: 469.4667 - val_loss: 23377.5605 - val_mae: 133.0811 - val_mse: 23377.5605\n",
            "Epoch 78/100\n",
            "22825/22825 [==============================] - 23s 1ms/step - loss: 469.7330 - mae: 16.5044 - mse: 469.7330 - val_loss: 27170.7949 - val_mae: 146.2121 - val_mse: 27170.7949\n",
            "Epoch 79/100\n",
            "22825/22825 [==============================] - 24s 1ms/step - loss: 468.9933 - mae: 16.4912 - mse: 468.9933 - val_loss: 26336.5566 - val_mae: 143.5722 - val_mse: 26336.5566\n",
            "Epoch 80/100\n",
            "22825/22825 [==============================] - 23s 1ms/step - loss: 469.2004 - mae: 16.4971 - mse: 469.2004 - val_loss: 25193.6270 - val_mae: 139.1709 - val_mse: 25193.6270\n",
            "Epoch 81/100\n",
            "22825/22825 [==============================] - 23s 1ms/step - loss: 469.0934 - mae: 16.4943 - mse: 469.0934 - val_loss: 23710.2930 - val_mae: 133.9330 - val_mse: 23710.2930\n",
            "Epoch 82/100\n",
            "22825/22825 [==============================] - 24s 1ms/step - loss: 469.2136 - mae: 16.4965 - mse: 469.2136 - val_loss: 24803.5156 - val_mae: 137.8412 - val_mse: 24803.5156\n",
            "Epoch 83/100\n",
            "22825/22825 [==============================] - 24s 1ms/step - loss: 469.1541 - mae: 16.4969 - mse: 469.1541 - val_loss: 25385.2656 - val_mae: 139.4203 - val_mse: 25385.2656\n",
            "Epoch 84/100\n",
            "22825/22825 [==============================] - 24s 1ms/step - loss: 469.3271 - mae: 16.5043 - mse: 469.3271 - val_loss: 26663.8555 - val_mae: 143.9725 - val_mse: 26663.8555\n",
            "Epoch 85/100\n",
            "22825/22825 [==============================] - 23s 1ms/step - loss: 469.1185 - mae: 16.4932 - mse: 469.1185 - val_loss: 24459.7480 - val_mae: 136.5290 - val_mse: 24459.7480\n",
            "Epoch 86/100\n",
            "22825/22825 [==============================] - 24s 1ms/step - loss: 470.1104 - mae: 16.5096 - mse: 470.1104 - val_loss: 27759.4062 - val_mae: 147.7377 - val_mse: 27759.4062\n",
            "Epoch 87/100\n",
            "22825/22825 [==============================] - 24s 1ms/step - loss: 469.6138 - mae: 16.5040 - mse: 469.6138 - val_loss: 25468.9082 - val_mae: 140.1373 - val_mse: 25468.9082\n",
            "Epoch 88/100\n",
            "22825/22825 [==============================] - 24s 1ms/step - loss: 469.3845 - mae: 16.5038 - mse: 469.3845 - val_loss: 28660.4395 - val_mae: 150.1626 - val_mse: 28660.4395\n",
            "Epoch 89/100\n",
            "22825/22825 [==============================] - 24s 1ms/step - loss: 469.7419 - mae: 16.5035 - mse: 469.7419 - val_loss: 24160.3262 - val_mae: 135.2803 - val_mse: 24160.3262\n",
            "Epoch 90/100\n",
            "22825/22825 [==============================] - 24s 1ms/step - loss: 469.7665 - mae: 16.5033 - mse: 469.7665 - val_loss: 25780.5039 - val_mae: 140.0221 - val_mse: 25780.5039\n",
            "Epoch 91/100\n",
            "22825/22825 [==============================] - 24s 1ms/step - loss: 469.1660 - mae: 16.4972 - mse: 469.1660 - val_loss: 26027.5957 - val_mae: 141.1817 - val_mse: 26027.5957\n",
            "Epoch 92/100\n",
            "22825/22825 [==============================] - 24s 1ms/step - loss: 469.7489 - mae: 16.5050 - mse: 469.7489 - val_loss: 26463.2227 - val_mae: 142.6284 - val_mse: 26463.2227\n",
            "Epoch 93/100\n",
            "22825/22825 [==============================] - 23s 1ms/step - loss: 469.3809 - mae: 16.4954 - mse: 469.3809 - val_loss: 30115.6855 - val_mae: 154.3601 - val_mse: 30115.6855\n",
            "Epoch 94/100\n",
            "22825/22825 [==============================] - 23s 1ms/step - loss: 469.3185 - mae: 16.5004 - mse: 469.3185 - val_loss: 27815.5352 - val_mae: 147.1423 - val_mse: 27815.5352\n",
            "Epoch 95/100\n",
            "22825/22825 [==============================] - 24s 1ms/step - loss: 470.1207 - mae: 16.5170 - mse: 470.1207 - val_loss: 23537.7812 - val_mae: 134.4469 - val_mse: 23537.7812\n",
            "Epoch 96/100\n",
            "22825/22825 [==============================] - 24s 1ms/step - loss: 470.8849 - mae: 16.5235 - mse: 470.8849 - val_loss: 24809.4863 - val_mae: 139.1981 - val_mse: 24809.4863\n",
            "Epoch 97/100\n",
            "22825/22825 [==============================] - 24s 1ms/step - loss: 470.0742 - mae: 16.5114 - mse: 470.0742 - val_loss: 22962.2051 - val_mae: 131.9788 - val_mse: 22962.2051\n",
            "Epoch 98/100\n",
            "22825/22825 [==============================] - 24s 1ms/step - loss: 469.4363 - mae: 16.4951 - mse: 469.4363 - val_loss: 24853.8594 - val_mae: 138.8720 - val_mse: 24853.8594\n",
            "Epoch 99/100\n",
            "22825/22825 [==============================] - 24s 1ms/step - loss: 469.2188 - mae: 16.4933 - mse: 469.2188 - val_loss: 21619.8984 - val_mae: 127.5448 - val_mse: 21619.8984\n",
            "Epoch 100/100\n",
            "22825/22825 [==============================] - 24s 1ms/step - loss: 470.4063 - mae: 16.5168 - mse: 470.4063 - val_loss: 24511.7363 - val_mae: 137.4174 - val_mse: 24511.7363\n"
          ],
          "name": "stdout"
        }
      ]
    },
    {
      "cell_type": "code",
      "metadata": {
        "id": "luRgJ4LwUdOu",
        "colab_type": "code",
        "colab": {
          "base_uri": "https://localhost:8080/",
          "height": 204
        },
        "outputId": "ba372163-85f3-4a3c-8024-d28b13dc7370"
      },
      "source": [
        "hist = pd.DataFrame(history.history)\n",
        "hist['epoch'] = history.epoch\n",
        "hist.tail()"
      ],
      "execution_count": 59,
      "outputs": [
        {
          "output_type": "execute_result",
          "data": {
            "text/html": [
              "<div>\n",
              "<style scoped>\n",
              "    .dataframe tbody tr th:only-of-type {\n",
              "        vertical-align: middle;\n",
              "    }\n",
              "\n",
              "    .dataframe tbody tr th {\n",
              "        vertical-align: top;\n",
              "    }\n",
              "\n",
              "    .dataframe thead th {\n",
              "        text-align: right;\n",
              "    }\n",
              "</style>\n",
              "<table border=\"1\" class=\"dataframe\">\n",
              "  <thead>\n",
              "    <tr style=\"text-align: right;\">\n",
              "      <th></th>\n",
              "      <th>loss</th>\n",
              "      <th>mae</th>\n",
              "      <th>mse</th>\n",
              "      <th>val_loss</th>\n",
              "      <th>val_mae</th>\n",
              "      <th>val_mse</th>\n",
              "      <th>epoch</th>\n",
              "    </tr>\n",
              "  </thead>\n",
              "  <tbody>\n",
              "    <tr>\n",
              "      <th>95</th>\n",
              "      <td>470.884949</td>\n",
              "      <td>16.523460</td>\n",
              "      <td>470.884949</td>\n",
              "      <td>24809.486328</td>\n",
              "      <td>139.198120</td>\n",
              "      <td>24809.486328</td>\n",
              "      <td>95</td>\n",
              "    </tr>\n",
              "    <tr>\n",
              "      <th>96</th>\n",
              "      <td>470.074249</td>\n",
              "      <td>16.511393</td>\n",
              "      <td>470.074249</td>\n",
              "      <td>22962.205078</td>\n",
              "      <td>131.978775</td>\n",
              "      <td>22962.205078</td>\n",
              "      <td>96</td>\n",
              "    </tr>\n",
              "    <tr>\n",
              "      <th>97</th>\n",
              "      <td>469.436310</td>\n",
              "      <td>16.495108</td>\n",
              "      <td>469.436310</td>\n",
              "      <td>24853.859375</td>\n",
              "      <td>138.871964</td>\n",
              "      <td>24853.859375</td>\n",
              "      <td>97</td>\n",
              "    </tr>\n",
              "    <tr>\n",
              "      <th>98</th>\n",
              "      <td>469.218750</td>\n",
              "      <td>16.493271</td>\n",
              "      <td>469.218750</td>\n",
              "      <td>21619.898438</td>\n",
              "      <td>127.544823</td>\n",
              "      <td>21619.898438</td>\n",
              "      <td>98</td>\n",
              "    </tr>\n",
              "    <tr>\n",
              "      <th>99</th>\n",
              "      <td>470.406311</td>\n",
              "      <td>16.516823</td>\n",
              "      <td>470.406311</td>\n",
              "      <td>24511.736328</td>\n",
              "      <td>137.417389</td>\n",
              "      <td>24511.736328</td>\n",
              "      <td>99</td>\n",
              "    </tr>\n",
              "  </tbody>\n",
              "</table>\n",
              "</div>"
            ],
            "text/plain": [
              "          loss        mae         mse  ...     val_mae       val_mse  epoch\n",
              "95  470.884949  16.523460  470.884949  ...  139.198120  24809.486328     95\n",
              "96  470.074249  16.511393  470.074249  ...  131.978775  22962.205078     96\n",
              "97  469.436310  16.495108  469.436310  ...  138.871964  24853.859375     97\n",
              "98  469.218750  16.493271  469.218750  ...  127.544823  21619.898438     98\n",
              "99  470.406311  16.516823  470.406311  ...  137.417389  24511.736328     99\n",
              "\n",
              "[5 rows x 7 columns]"
            ]
          },
          "metadata": {
            "tags": []
          },
          "execution_count": 59
        }
      ]
    },
    {
      "cell_type": "code",
      "metadata": {
        "id": "nm6OXX9sV-9N",
        "colab_type": "code",
        "colab": {}
      },
      "source": [
        "\n"
      ],
      "execution_count": 53,
      "outputs": []
    },
    {
      "cell_type": "code",
      "metadata": {
        "id": "nCorVNMwWV3g",
        "colab_type": "code",
        "colab": {}
      },
      "source": [
        ""
      ],
      "execution_count": 53,
      "outputs": []
    },
    {
      "cell_type": "code",
      "metadata": {
        "id": "mpvd230IWj-f",
        "colab_type": "code",
        "colab": {}
      },
      "source": [
        ""
      ],
      "execution_count": null,
      "outputs": []
    }
  ]
}